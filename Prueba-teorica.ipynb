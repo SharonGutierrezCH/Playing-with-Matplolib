{
 "cells": [
  {
   "cell_type": "code",
   "execution_count": null,
   "metadata": {},
   "outputs": [],
   "source": [
    "#Desafío 1: Segmentación de Clientes por Ingresos\n",
    "#Introducción:\n",
    "#El negocio desea categorizar a los clientes según sus ingresos para una mejor comprensión del perfil del cliente.\n",
    "#Tareas a Resolver:\n",
    "#1.\tCrea una nueva columna llamada \"segmento_ingresos\" con el valor \"Afluente\" para clientes con ingresos mayores a $2,000 USD, y \"Masivo\" para los demás. (2 Puntos)\n",
    "#2.\tReporta la cantidad y porcentaje de clientes en cada segmento de ingresos. (4 Puntos)\n",
    "#3.\tReporta al negocio cual es el nivel de educación más común en el segmento afluente y con qué porcentaje. Así mismo, reporta el estado civil más común del segmento afluente y el porcentaje de clientes afluentes en ese estado. (4 Puntos)\n",
    "#4.\tUtiliza un gráfico adecuado con Matplotlib para comparar la distribución de ingresos entre los clientes afluentes y masivos. (6 Puntos)\n"
   ]
  },
  {
   "cell_type": "code",
   "execution_count": 1,
   "metadata": {},
   "outputs": [
    {
     "name": "stderr",
     "output_type": "stream",
     "text": [
      "C:\\Users\\Sharon\\AppData\\Local\\Temp\\ipykernel_23444\\1227917927.py:1: DeprecationWarning: \n",
      "Pyarrow will become a required dependency of pandas in the next major release of pandas (pandas 3.0),\n",
      "(to allow more performant data types, such as the Arrow string type, and better interoperability with other libraries)\n",
      "but was not found to be installed on your system.\n",
      "If this would cause problems for you,\n",
      "please provide us feedback at https://github.com/pandas-dev/pandas/issues/54466\n",
      "        \n",
      "  import pandas as pd\n"
     ]
    }
   ],
   "source": [
    "import pandas as pd\n",
    "import numpy as np\n",
    "import csv\n",
    "import matplotlib as mtlp"
   ]
  },
  {
   "cell_type": "code",
   "execution_count": 80,
   "metadata": {},
   "outputs": [
    {
     "data": {
      "text/plain": [
       "<bound method NDFrame.head of          ID  Year_Birth   Education Marital_Status    Income   Cant_Trx_Movil  \\\n",
       "0      1826        1970  Graduation       Divorced  8483500.0             189   \n",
       "1         1        1961  Graduation         Single  5709100.0             464   \n",
       "2     10476        1958  Graduation        Married  6726700.0             134   \n",
       "3      1386        1967  Graduation       Together  3247400.0              10   \n",
       "4      5371        1989  Graduation         Single  2147400.0               6   \n",
       "...     ...         ...         ...            ...        ...             ...   \n",
       "2235  10142        1976         PhD       Divorced  6647600.0             372   \n",
       "2236   5263        1977    2n Cycle        Married  3105600.0               5   \n",
       "2237     22        1976  Graduation       Divorced  4631000.0             185   \n",
       "2238    528        1978  Graduation        Married  6581900.0             267   \n",
       "2239   4070        1969         PhD        Married  9487100.0             169   \n",
       "\n",
       "      Cant_Trx_Card  \n",
       "0               104  \n",
       "1                 5  \n",
       "2                11  \n",
       "3                 0  \n",
       "4                16  \n",
       "...             ...  \n",
       "2235             18  \n",
       "2236             10  \n",
       "2237              2  \n",
       "2238             38  \n",
       "2239             24  \n",
       "\n",
       "[2240 rows x 7 columns]>"
      ]
     },
     "execution_count": 80,
     "metadata": {},
     "output_type": "execute_result"
    }
   ],
   "source": [
    "#df = pd.read_csv('marketing_data.csv')\n",
    "\n",
    "df.head\n",
    "\n",
    "#df.columns"
   ]
  },
  {
   "cell_type": "code",
   "execution_count": 81,
   "metadata": {},
   "outputs": [
    {
     "ename": "ValueError",
     "evalue": "Length of values (1) does not match length of index (2240)",
     "output_type": "error",
     "traceback": [
      "\u001b[1;31m---------------------------------------------------------------------------\u001b[0m",
      "\u001b[1;31mValueError\u001b[0m                                Traceback (most recent call last)",
      "Cell \u001b[1;32mIn[81], line 6\u001b[0m\n\u001b[0;32m      1\u001b[0m \u001b[38;5;66;03m#1.\tCrea una nueva columna llamada \"segmento_ingresos\" con el valor \"Afluente\" \u001b[39;00m\n\u001b[0;32m      2\u001b[0m \u001b[38;5;66;03m#para clientes con ingresos mayores a $2,000 USD, y \"Masivo\" para los demás.\u001b[39;00m\n\u001b[0;32m      5\u001b[0m segmento_ingresos \u001b[38;5;241m=\u001b[39m df[\u001b[38;5;124m\"\u001b[39m\u001b[38;5;124m Income \u001b[39m\u001b[38;5;124m\"\u001b[39m] \u001b[38;5;241m>\u001b[39m \u001b[38;5;241m20000\u001b[39m\n\u001b[1;32m----> 6\u001b[0m \u001b[43mdf\u001b[49m\u001b[43m[\u001b[49m\u001b[38;5;124;43m\"\u001b[39;49m\u001b[38;5;124;43mSegmento Ingresos\u001b[39;49m\u001b[38;5;124;43m\"\u001b[39;49m\u001b[43m]\u001b[49m \u001b[38;5;241m=\u001b[39m [\u001b[38;5;124m\"\u001b[39m\u001b[38;5;124msegmento_ingresos\u001b[39m\u001b[38;5;124m\"\u001b[39m]\n\u001b[0;32m      8\u001b[0m \u001b[38;5;66;03m#df.dtypes\u001b[39;00m\n",
      "File \u001b[1;32mc:\\Users\\Sharon\\AppData\\Local\\Programs\\Python\\Python312\\Lib\\site-packages\\pandas\\core\\frame.py:4299\u001b[0m, in \u001b[0;36mDataFrame.__setitem__\u001b[1;34m(self, key, value)\u001b[0m\n\u001b[0;32m   4296\u001b[0m     \u001b[38;5;28mself\u001b[39m\u001b[38;5;241m.\u001b[39m_setitem_array([key], value)\n\u001b[0;32m   4297\u001b[0m \u001b[38;5;28;01melse\u001b[39;00m:\n\u001b[0;32m   4298\u001b[0m     \u001b[38;5;66;03m# set column\u001b[39;00m\n\u001b[1;32m-> 4299\u001b[0m     \u001b[38;5;28;43mself\u001b[39;49m\u001b[38;5;241;43m.\u001b[39;49m\u001b[43m_set_item\u001b[49m\u001b[43m(\u001b[49m\u001b[43mkey\u001b[49m\u001b[43m,\u001b[49m\u001b[43m \u001b[49m\u001b[43mvalue\u001b[49m\u001b[43m)\u001b[49m\n",
      "File \u001b[1;32mc:\\Users\\Sharon\\AppData\\Local\\Programs\\Python\\Python312\\Lib\\site-packages\\pandas\\core\\frame.py:4512\u001b[0m, in \u001b[0;36mDataFrame._set_item\u001b[1;34m(self, key, value)\u001b[0m\n\u001b[0;32m   4502\u001b[0m \u001b[38;5;28;01mdef\u001b[39;00m \u001b[38;5;21m_set_item\u001b[39m(\u001b[38;5;28mself\u001b[39m, key, value) \u001b[38;5;241m-\u001b[39m\u001b[38;5;241m>\u001b[39m \u001b[38;5;28;01mNone\u001b[39;00m:\n\u001b[0;32m   4503\u001b[0m \u001b[38;5;250m    \u001b[39m\u001b[38;5;124;03m\"\"\"\u001b[39;00m\n\u001b[0;32m   4504\u001b[0m \u001b[38;5;124;03m    Add series to DataFrame in specified column.\u001b[39;00m\n\u001b[0;32m   4505\u001b[0m \n\u001b[1;32m   (...)\u001b[0m\n\u001b[0;32m   4510\u001b[0m \u001b[38;5;124;03m    ensure homogeneity.\u001b[39;00m\n\u001b[0;32m   4511\u001b[0m \u001b[38;5;124;03m    \"\"\"\u001b[39;00m\n\u001b[1;32m-> 4512\u001b[0m     value, refs \u001b[38;5;241m=\u001b[39m \u001b[38;5;28;43mself\u001b[39;49m\u001b[38;5;241;43m.\u001b[39;49m\u001b[43m_sanitize_column\u001b[49m\u001b[43m(\u001b[49m\u001b[43mvalue\u001b[49m\u001b[43m)\u001b[49m\n\u001b[0;32m   4514\u001b[0m     \u001b[38;5;28;01mif\u001b[39;00m (\n\u001b[0;32m   4515\u001b[0m         key \u001b[38;5;129;01min\u001b[39;00m \u001b[38;5;28mself\u001b[39m\u001b[38;5;241m.\u001b[39mcolumns\n\u001b[0;32m   4516\u001b[0m         \u001b[38;5;129;01mand\u001b[39;00m value\u001b[38;5;241m.\u001b[39mndim \u001b[38;5;241m==\u001b[39m \u001b[38;5;241m1\u001b[39m\n\u001b[0;32m   4517\u001b[0m         \u001b[38;5;129;01mand\u001b[39;00m \u001b[38;5;129;01mnot\u001b[39;00m \u001b[38;5;28misinstance\u001b[39m(value\u001b[38;5;241m.\u001b[39mdtype, ExtensionDtype)\n\u001b[0;32m   4518\u001b[0m     ):\n\u001b[0;32m   4519\u001b[0m         \u001b[38;5;66;03m# broadcast across multiple columns if necessary\u001b[39;00m\n\u001b[0;32m   4520\u001b[0m         \u001b[38;5;28;01mif\u001b[39;00m \u001b[38;5;129;01mnot\u001b[39;00m \u001b[38;5;28mself\u001b[39m\u001b[38;5;241m.\u001b[39mcolumns\u001b[38;5;241m.\u001b[39mis_unique \u001b[38;5;129;01mor\u001b[39;00m \u001b[38;5;28misinstance\u001b[39m(\u001b[38;5;28mself\u001b[39m\u001b[38;5;241m.\u001b[39mcolumns, MultiIndex):\n",
      "File \u001b[1;32mc:\\Users\\Sharon\\AppData\\Local\\Programs\\Python\\Python312\\Lib\\site-packages\\pandas\\core\\frame.py:5253\u001b[0m, in \u001b[0;36mDataFrame._sanitize_column\u001b[1;34m(self, value)\u001b[0m\n\u001b[0;32m   5250\u001b[0m     \u001b[38;5;28;01mreturn\u001b[39;00m _reindex_for_setitem(value, \u001b[38;5;28mself\u001b[39m\u001b[38;5;241m.\u001b[39mindex)\n\u001b[0;32m   5252\u001b[0m \u001b[38;5;28;01mif\u001b[39;00m is_list_like(value):\n\u001b[1;32m-> 5253\u001b[0m     \u001b[43mcom\u001b[49m\u001b[38;5;241;43m.\u001b[39;49m\u001b[43mrequire_length_match\u001b[49m\u001b[43m(\u001b[49m\u001b[43mvalue\u001b[49m\u001b[43m,\u001b[49m\u001b[43m \u001b[49m\u001b[38;5;28;43mself\u001b[39;49m\u001b[38;5;241;43m.\u001b[39;49m\u001b[43mindex\u001b[49m\u001b[43m)\u001b[49m\n\u001b[0;32m   5254\u001b[0m arr \u001b[38;5;241m=\u001b[39m sanitize_array(value, \u001b[38;5;28mself\u001b[39m\u001b[38;5;241m.\u001b[39mindex, copy\u001b[38;5;241m=\u001b[39m\u001b[38;5;28;01mTrue\u001b[39;00m, allow_2d\u001b[38;5;241m=\u001b[39m\u001b[38;5;28;01mTrue\u001b[39;00m)\n\u001b[0;32m   5255\u001b[0m \u001b[38;5;28;01mif\u001b[39;00m (\n\u001b[0;32m   5256\u001b[0m     \u001b[38;5;28misinstance\u001b[39m(value, Index)\n\u001b[0;32m   5257\u001b[0m     \u001b[38;5;129;01mand\u001b[39;00m value\u001b[38;5;241m.\u001b[39mdtype \u001b[38;5;241m==\u001b[39m \u001b[38;5;124m\"\u001b[39m\u001b[38;5;124mobject\u001b[39m\u001b[38;5;124m\"\u001b[39m\n\u001b[1;32m   (...)\u001b[0m\n\u001b[0;32m   5260\u001b[0m     \u001b[38;5;66;03m# TODO: Remove kludge in sanitize_array for string mode when enforcing\u001b[39;00m\n\u001b[0;32m   5261\u001b[0m     \u001b[38;5;66;03m# this deprecation\u001b[39;00m\n",
      "File \u001b[1;32mc:\\Users\\Sharon\\AppData\\Local\\Programs\\Python\\Python312\\Lib\\site-packages\\pandas\\core\\common.py:571\u001b[0m, in \u001b[0;36mrequire_length_match\u001b[1;34m(data, index)\u001b[0m\n\u001b[0;32m    567\u001b[0m \u001b[38;5;250m\u001b[39m\u001b[38;5;124;03m\"\"\"\u001b[39;00m\n\u001b[0;32m    568\u001b[0m \u001b[38;5;124;03mCheck the length of data matches the length of the index.\u001b[39;00m\n\u001b[0;32m    569\u001b[0m \u001b[38;5;124;03m\"\"\"\u001b[39;00m\n\u001b[0;32m    570\u001b[0m \u001b[38;5;28;01mif\u001b[39;00m \u001b[38;5;28mlen\u001b[39m(data) \u001b[38;5;241m!=\u001b[39m \u001b[38;5;28mlen\u001b[39m(index):\n\u001b[1;32m--> 571\u001b[0m     \u001b[38;5;28;01mraise\u001b[39;00m \u001b[38;5;167;01mValueError\u001b[39;00m(\n\u001b[0;32m    572\u001b[0m         \u001b[38;5;124m\"\u001b[39m\u001b[38;5;124mLength of values \u001b[39m\u001b[38;5;124m\"\u001b[39m\n\u001b[0;32m    573\u001b[0m         \u001b[38;5;124mf\u001b[39m\u001b[38;5;124m\"\u001b[39m\u001b[38;5;124m(\u001b[39m\u001b[38;5;132;01m{\u001b[39;00m\u001b[38;5;28mlen\u001b[39m(data)\u001b[38;5;132;01m}\u001b[39;00m\u001b[38;5;124m) \u001b[39m\u001b[38;5;124m\"\u001b[39m\n\u001b[0;32m    574\u001b[0m         \u001b[38;5;124m\"\u001b[39m\u001b[38;5;124mdoes not match length of index \u001b[39m\u001b[38;5;124m\"\u001b[39m\n\u001b[0;32m    575\u001b[0m         \u001b[38;5;124mf\u001b[39m\u001b[38;5;124m\"\u001b[39m\u001b[38;5;124m(\u001b[39m\u001b[38;5;132;01m{\u001b[39;00m\u001b[38;5;28mlen\u001b[39m(index)\u001b[38;5;132;01m}\u001b[39;00m\u001b[38;5;124m)\u001b[39m\u001b[38;5;124m\"\u001b[39m\n\u001b[0;32m    576\u001b[0m     )\n",
      "\u001b[1;31mValueError\u001b[0m: Length of values (1) does not match length of index (2240)"
     ]
    }
   ],
   "source": [
    "#1.\tCrea una nueva columna llamada \"segmento_ingresos\" con el valor \"Afluente\" \n",
    "#para clientes con ingresos mayores a $2,000 USD, y \"Masivo\" para los demás.\n",
    "\n",
    "\n",
    "segmento_ingresos = df[\" Income \"] > 20000\n",
    "\n",
    "\n",
    "#df.dtypes"
   ]
  },
  {
   "cell_type": "code",
   "execution_count": 78,
   "metadata": {},
   "outputs": [
    {
     "data": {
      "text/plain": [
       "(2240,)"
      ]
     },
     "execution_count": 78,
     "metadata": {},
     "output_type": "execute_result"
    }
   ],
   "source": [
    "segmento_ingresos = df[\" Income \"] > 20000\n"
   ]
  },
  {
   "cell_type": "code",
   "execution_count": 77,
   "metadata": {},
   "outputs": [
    {
     "data": {
      "text/plain": [
       "(2240,)"
      ]
     },
     "execution_count": 77,
     "metadata": {},
     "output_type": "execute_result"
    }
   ],
   "source": [
    "Masivo = df[\" Income \"] < 2000\n"
   ]
  },
  {
   "cell_type": "code",
   "execution_count": 45,
   "metadata": {},
   "outputs": [
    {
     "data": {
      "text/plain": [
       "0       8483500.0\n",
       "1       5709100.0\n",
       "2       6726700.0\n",
       "3       3247400.0\n",
       "4       2147400.0\n",
       "          ...    \n",
       "2235    6647600.0\n",
       "2236    3105600.0\n",
       "2237    4631000.0\n",
       "2238    6581900.0\n",
       "2239    9487100.0\n",
       "Name:  Income , Length: 2240, dtype: float64"
      ]
     },
     "execution_count": 45,
     "metadata": {},
     "output_type": "execute_result"
    }
   ],
   "source": [
    "df[\" Income \"]"
   ]
  },
  {
   "cell_type": "code",
   "execution_count": 23,
   "metadata": {},
   "outputs": [],
   "source": [
    "df[' Income '] = df[' Income '].str.replace(r'\\$', '', regex=True)"
   ]
  },
  {
   "cell_type": "code",
   "execution_count": 44,
   "metadata": {},
   "outputs": [
    {
     "data": {
      "text/plain": [
       "ID                False\n",
       "Year_Birth        False\n",
       "Education         False\n",
       "Marital_Status    False\n",
       " Income            True\n",
       "Cant_Trx_Movil    False\n",
       "Cant_Trx_Card     False\n",
       "dtype: bool"
      ]
     },
     "execution_count": 44,
     "metadata": {},
     "output_type": "execute_result"
    }
   ],
   "source": [
    "df.isnull().any()\n",
    "#valores nulos encontrados en Income, se procede a llenar con la funcion fillna\n",
    "\n"
   ]
  },
  {
   "cell_type": "code",
   "execution_count": 40,
   "metadata": {},
   "outputs": [],
   "source": [
    "#Aquí se intenta pasar de str a numero entero\n",
    "\n",
    "def string_a_entero_safe(string):\n",
    "    if string == 'nan' or pd.isnull(string):\n",
    "        return np.nan  # o cualquier otro valor predeterminado que desees\n",
    "    try:\n",
    "        entero = int(string)\n",
    "        return entero\n",
    "    except ValueError:\n",
    "        print(\"Error: La cadena no es un número entero válido.\")\n",
    "        return None\n",
    "\n"
   ]
  },
  {
   "cell_type": "code",
   "execution_count": 42,
   "metadata": {},
   "outputs": [],
   "source": [
    "df[\" Income \"] = df[\" Income \"].apply(string_a_entero_safe)"
   ]
  },
  {
   "cell_type": "code",
   "execution_count": 51,
   "metadata": {},
   "outputs": [],
   "source": [
    "#df[\" Income \"].astype(str).astype(int)\n",
    "#df[\" Income \"].fillna(df[\" Income \"].mean())"
   ]
  },
  {
   "cell_type": "code",
   "execution_count": 52,
   "metadata": {},
   "outputs": [
    {
     "data": {
      "text/plain": [
       "ID                  int64\n",
       "Year_Birth          int64\n",
       "Education          object\n",
       "Marital_Status     object\n",
       " Income           float64\n",
       "Cant_Trx_Movil      int64\n",
       "Cant_Trx_Card       int64\n",
       "dtype: object"
      ]
     },
     "execution_count": 52,
     "metadata": {},
     "output_type": "execute_result"
    }
   ],
   "source": [
    "df.dtypes"
   ]
  },
  {
   "cell_type": "code",
   "execution_count": 87,
   "metadata": {},
   "outputs": [
    {
     "name": "stdout",
     "output_type": "stream",
     "text": [
      " Income \n",
      "False      24\n",
      "True     2216\n",
      "dtype: int64\n"
     ]
    }
   ],
   "source": [
    "#2 Reporta la cantidad y porcentaje de clientes en cada segmento de ingresos. (4 Puntos)\n",
    "\n",
    "#Cuantos clientes tiene el segmento masivo\n",
    "\n",
    "#Masivo.count()\n",
    "# 2240 clientes\n",
    "\n",
    "import matplotlib.pyplot as plt\n",
    "from matplotlib import rcParams\n",
    "import seaborn as sns\n",
    "\n",
    "conteo = df.groupby(segmento_ingresos).size()\n",
    "print(conteo)\n",
    "\n",
    "#Cuantos clientes tiene el segmento ingreso\n",
    "\n",
    "# Income \n",
    "#False      24 clientes con ingreso mayores a 2000\n",
    "#True     2216  clientes con ingrsos menores a 2000\n",
    "#dtype: int64"
   ]
  },
  {
   "cell_type": "code",
   "execution_count": null,
   "metadata": {},
   "outputs": [],
   "source": [
    "#3.\tReporta al negocio cual es el nivel de educación más común en el segmento afluente y con qué porcentaje. \n",
    "# Así mismo, reporta el estado civil más común del \n",
    "#segmento afluente y el porcentaje de clientes afluentes en ese estado. (4 Puntos)\n",
    "\n",
    "\n",
    "\n"
   ]
  },
  {
   "cell_type": "code",
   "execution_count": null,
   "metadata": {},
   "outputs": [],
   "source": [
    "#Desafío 2: Identificación de Clientes con Mayor Transaccionalidad\n",
    "Introducción:\n",
    "El negocio busca identificar a los clientes con mayor actividad transaccional para mejorar la segmentación de clientes \n",
    "#y dirigir mejor las estrategias de marketing.\n",
    "Tareas a Resolver:\n",
    "#1.\tCrea una nueva columna llamada \"total_trx\" que representa el total de transacciones de cada cliente. (2 Puntos)\n",
    "2.\tReporta las IDs del top 10 clientes con más transacciones totales. (2 Puntos)\n",
    "3.\tIdentifica el nivel de educación con mayor transaccionalidad en promedio e Identifica el estado civil con menor transaccionalidad en promedio. (6 Puntos)\n",
    "4.\tGenera un gráfico para identificar cualquier relación entre la cantidad de transacciones en el canal móvil y con tarjeta de crédito. (6 Puntos)\n"
   ]
  },
  {
   "cell_type": "code",
   "execution_count": 93,
   "metadata": {},
   "outputs": [
    {
     "name": "stdout",
     "output_type": "stream",
     "text": [
      "ID\n",
      "0        10\n",
      "1         5\n",
      "9         0\n",
      "13        0\n",
      "17       47\n",
      "         ..\n",
      "11178     2\n",
      "11181     1\n",
      "11187     8\n",
      "11188    10\n",
      "11191    32\n",
      "Name: Cant_Trx_Card, Length: 2240, dtype: int64\n"
     ]
    },
    {
     "data": {
      "text/plain": [
       "ID\n",
       "0     10\n",
       "1      5\n",
       "9      0\n",
       "13     0\n",
       "17    47\n",
       "Name: Cant_Trx_Card, dtype: int64"
      ]
     },
     "execution_count": 93,
     "metadata": {},
     "output_type": "execute_result"
    }
   ],
   "source": [
    "#1\n",
    "#Se debería sumar las columnas de transaccion de movil mas transaccion de tarjeta\n",
    "#colocarlo en una nueva columna y lo graficaría con un bar plot\n",
    "\n",
    "#df['Cant_Trx_Card'].info()\n",
    "\n",
    "# lo agrupé por mayor transacción en tarjeta\n",
    "\n",
    "\n",
    "\n",
    "#2.\tReporta las IDs del top 10 clientes con más transacciones totales. (2 Puntos)\n",
    "\n",
    "df2 = df.groupby(\"ID\")[\"Cant_Trx_Card\"].sum()\n",
    "\n",
    "print(df2)\n",
    "\n",
    "df2.head(5)\n",
    "#los resultados fueron los siguientes ID 1,9,13,17,0  \n",
    "\n"
   ]
  },
  {
   "cell_type": "code",
   "execution_count": 97,
   "metadata": {},
   "outputs": [
    {
     "data": {
      "image/png": "[encoded data removed]",
      "text/plain": [
       "<Figure size 800x600 with 1 Axes>"
      ]
     },
     "metadata": {},
     "output_type": "display_data"
    }
   ],
   "source": [
    "#4.\tGenera un gráfico para identificar cualquier relación entre la cantidad de \n",
    "# transacciones en el canal móvil y con tarjeta de crédito. (6 Puntos)\n",
    "\n",
    "#un gráfico de dispersión sería lo ideal\n",
    "\n",
    "x = df['Cant_Trx_Movil']\n",
    "y = df['Cant_Trx_Card']\n",
    "\n",
    "# Crear el gráfico de dispersión\n",
    "plt.figure(figsize=(8, 6))\n",
    "plt.scatter(x, y, color='blue', marker='o')  # Scatter plot\n",
    "plt.title('Relación entre Mobile y Tarjeta')\n",
    "plt.xlabel('Transacciones Mobile')\n",
    "plt.ylabel('Transacciones con tarjeta')\n",
    "plt.grid(True)\n",
    "plt.show()\n",
    "\n",
    "#la relación de ambas acciones no es tan lineal, pero sí tiene mucha correlación ya que se \n",
    "# ve un patrón que entre menos transacciones de ambas formas en cantidades menores a 600"
   ]
  },
  {
   "cell_type": "code",
   "execution_count": 99,
   "metadata": {},
   "outputs": [
    {
     "data": {
      "text/plain": [
       "0       Divorced\n",
       "1         Single\n",
       "2        Married\n",
       "3       Together\n",
       "4         Single\n",
       "          ...   \n",
       "2235    Divorced\n",
       "2236     Married\n",
       "2237    Divorced\n",
       "2238     Married\n",
       "2239     Married\n",
       "Name: Marital_Status, Length: 2240, dtype: object"
      ]
     },
     "execution_count": 99,
     "metadata": {},
     "output_type": "execute_result"
    }
   ],
   "source": [
    "#3.\tIdentifica el nivel de educación con mayor transaccionalidad en \n",
    "#promedio e Identifica el estado civil con menor transaccionalidad en promedio. (6 Puntos)\n",
    "\n",
    "#aquí sería ideal un gráfico circular en el que conste el promedio de una la columna \n",
    "#transaccionalidad (que es la suma de ambas formas: tarjeta y mobile)\n",
    "\n",
    "df[\"Education\"]\n",
    "\n",
    "\n",
    "df[\"Marital_Status\"]\n",
    "\n",
    "\n"
   ]
  }
 ],
 "metadata": {
  "kernelspec": {
   "display_name": "Python 3",
   "language": "python",
   "name": "python3"
  },
  "language_info": {
   "codemirror_mode": {
    "name": "ipython",
    "version": 3
   },
   "file_extension": ".py",
   "mimetype": "text/x-python",
   "name": "python",
   "nbconvert_exporter": "python",
   "pygments_lexer": "ipython3",
   "version": "3.12.0"
  }
 },
 "nbformat": 4,
 "nbformat_minor": 2
}
